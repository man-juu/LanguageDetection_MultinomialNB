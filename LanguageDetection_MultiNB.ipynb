{
  "nbformat": 4,
  "nbformat_minor": 0,
  "metadata": {
    "colab": {
      "provenance": [],
      "collapsed_sections": []
    },
    "kernelspec": {
      "name": "python3",
      "display_name": "Python 3"
    },
    "language_info": {
      "name": "python"
    }
  },
  "cells": [
    {
      "cell_type": "code",
      "execution_count": null,
      "metadata": {
        "id": "BMkAyth8HO9W"
      },
      "outputs": [],
      "source": [
        "import pandas as pd\n",
        "import numpy as np\n",
        "import re\n",
        "import seaborn as sns\n",
        "import matplotlib.pyplot as plt\n",
        "import warnings\n",
        "warnings.simplefilter(\"ignore\")"
      ]
    },
    {
      "cell_type": "code",
      "source": [
        "data = pd.read_csv(\"https://raw.githubusercontent.com/man-juu/datasetML/main/dataset_language_detection.csv\")\n",
        "data.head(10)"
      ],
      "metadata": {
        "colab": {
          "base_uri": "https://localhost:8080/",
          "height": 363
        },
        "id": "heyXcPjHHPzR",
        "outputId": "6532afe7-fe14-4718-d356-283d819a677e"
      },
      "execution_count": null,
      "outputs": [
        {
          "output_type": "execute_result",
          "data": {
            "text/plain": [
              "                                                Text    Language\n",
              "0  في  أبريل م قدم الزعيم مصطفى النحاس مذكرة للسف...      Arabic\n",
              "1  在演说中，他呼吁全人类团结起来，共同反对专制、贫困、疾病和战争，他在演说中提到的：“不要问你...     Chinese\n",
              "2  francisco de miranda is een gemeente in de ven...       Dutch\n",
              "3  oyama station was opened on  april  the statio...     English\n",
              "4  elle est la fille de gérios tuéni et katbé sur...      French\n",
              "5  यी की अपनी चित्रलिपि पर आधारित एक लिपि है जिसम...       Hindi\n",
              "6  artemisina plumosa adalah spesies spons yang t...  Indonesian\n",
              "7  通称「モモ」。年組の女子生徒。お下げ髪にぽっちゃりした感じの顔つきが特徴（スズとは「ポッチャ...    Japanese\n",
              "8  보건복지부 내부에서도 일단 환영 입장이다 행정부 내에서 보건복지부의 위상을 높일 수...      Korean\n",
              "9    un \"compilateur\" témoin de son temps  appien...       Latin"
            ],
            "text/html": [
              "\n",
              "  <div id=\"df-3b2f2b68-2344-454e-a5c5-0b33a3d4d1c5\">\n",
              "    <div class=\"colab-df-container\">\n",
              "      <div>\n",
              "<style scoped>\n",
              "    .dataframe tbody tr th:only-of-type {\n",
              "        vertical-align: middle;\n",
              "    }\n",
              "\n",
              "    .dataframe tbody tr th {\n",
              "        vertical-align: top;\n",
              "    }\n",
              "\n",
              "    .dataframe thead th {\n",
              "        text-align: right;\n",
              "    }\n",
              "</style>\n",
              "<table border=\"1\" class=\"dataframe\">\n",
              "  <thead>\n",
              "    <tr style=\"text-align: right;\">\n",
              "      <th></th>\n",
              "      <th>Text</th>\n",
              "      <th>Language</th>\n",
              "    </tr>\n",
              "  </thead>\n",
              "  <tbody>\n",
              "    <tr>\n",
              "      <th>0</th>\n",
              "      <td>في  أبريل م قدم الزعيم مصطفى النحاس مذكرة للسف...</td>\n",
              "      <td>Arabic</td>\n",
              "    </tr>\n",
              "    <tr>\n",
              "      <th>1</th>\n",
              "      <td>在演说中，他呼吁全人类团结起来，共同反对专制、贫困、疾病和战争，他在演说中提到的：“不要问你...</td>\n",
              "      <td>Chinese</td>\n",
              "    </tr>\n",
              "    <tr>\n",
              "      <th>2</th>\n",
              "      <td>francisco de miranda is een gemeente in de ven...</td>\n",
              "      <td>Dutch</td>\n",
              "    </tr>\n",
              "    <tr>\n",
              "      <th>3</th>\n",
              "      <td>oyama station was opened on  april  the statio...</td>\n",
              "      <td>English</td>\n",
              "    </tr>\n",
              "    <tr>\n",
              "      <th>4</th>\n",
              "      <td>elle est la fille de gérios tuéni et katbé sur...</td>\n",
              "      <td>French</td>\n",
              "    </tr>\n",
              "    <tr>\n",
              "      <th>5</th>\n",
              "      <td>यी की अपनी चित्रलिपि पर आधारित एक लिपि है जिसम...</td>\n",
              "      <td>Hindi</td>\n",
              "    </tr>\n",
              "    <tr>\n",
              "      <th>6</th>\n",
              "      <td>artemisina plumosa adalah spesies spons yang t...</td>\n",
              "      <td>Indonesian</td>\n",
              "    </tr>\n",
              "    <tr>\n",
              "      <th>7</th>\n",
              "      <td>通称「モモ」。年組の女子生徒。お下げ髪にぽっちゃりした感じの顔つきが特徴（スズとは「ポッチャ...</td>\n",
              "      <td>Japanese</td>\n",
              "    </tr>\n",
              "    <tr>\n",
              "      <th>8</th>\n",
              "      <td>보건복지부 내부에서도 일단 환영 입장이다 행정부 내에서 보건복지부의 위상을 높일 수...</td>\n",
              "      <td>Korean</td>\n",
              "    </tr>\n",
              "    <tr>\n",
              "      <th>9</th>\n",
              "      <td>un \"compilateur\" témoin de son temps  appien...</td>\n",
              "      <td>Latin</td>\n",
              "    </tr>\n",
              "  </tbody>\n",
              "</table>\n",
              "</div>\n",
              "      <button class=\"colab-df-convert\" onclick=\"convertToInteractive('df-3b2f2b68-2344-454e-a5c5-0b33a3d4d1c5')\"\n",
              "              title=\"Convert this dataframe to an interactive table.\"\n",
              "              style=\"display:none;\">\n",
              "        \n",
              "  <svg xmlns=\"http://www.w3.org/2000/svg\" height=\"24px\"viewBox=\"0 0 24 24\"\n",
              "       width=\"24px\">\n",
              "    <path d=\"M0 0h24v24H0V0z\" fill=\"none\"/>\n",
              "    <path d=\"M18.56 5.44l.94 2.06.94-2.06 2.06-.94-2.06-.94-.94-2.06-.94 2.06-2.06.94zm-11 1L8.5 8.5l.94-2.06 2.06-.94-2.06-.94L8.5 2.5l-.94 2.06-2.06.94zm10 10l.94 2.06.94-2.06 2.06-.94-2.06-.94-.94-2.06-.94 2.06-2.06.94z\"/><path d=\"M17.41 7.96l-1.37-1.37c-.4-.4-.92-.59-1.43-.59-.52 0-1.04.2-1.43.59L10.3 9.45l-7.72 7.72c-.78.78-.78 2.05 0 2.83L4 21.41c.39.39.9.59 1.41.59.51 0 1.02-.2 1.41-.59l7.78-7.78 2.81-2.81c.8-.78.8-2.07 0-2.86zM5.41 20L4 18.59l7.72-7.72 1.47 1.35L5.41 20z\"/>\n",
              "  </svg>\n",
              "      </button>\n",
              "      \n",
              "  <style>\n",
              "    .colab-df-container {\n",
              "      display:flex;\n",
              "      flex-wrap:wrap;\n",
              "      gap: 12px;\n",
              "    }\n",
              "\n",
              "    .colab-df-convert {\n",
              "      background-color: #E8F0FE;\n",
              "      border: none;\n",
              "      border-radius: 50%;\n",
              "      cursor: pointer;\n",
              "      display: none;\n",
              "      fill: #1967D2;\n",
              "      height: 32px;\n",
              "      padding: 0 0 0 0;\n",
              "      width: 32px;\n",
              "    }\n",
              "\n",
              "    .colab-df-convert:hover {\n",
              "      background-color: #E2EBFA;\n",
              "      box-shadow: 0px 1px 2px rgba(60, 64, 67, 0.3), 0px 1px 3px 1px rgba(60, 64, 67, 0.15);\n",
              "      fill: #174EA6;\n",
              "    }\n",
              "\n",
              "    [theme=dark] .colab-df-convert {\n",
              "      background-color: #3B4455;\n",
              "      fill: #D2E3FC;\n",
              "    }\n",
              "\n",
              "    [theme=dark] .colab-df-convert:hover {\n",
              "      background-color: #434B5C;\n",
              "      box-shadow: 0px 1px 3px 1px rgba(0, 0, 0, 0.15);\n",
              "      filter: drop-shadow(0px 1px 2px rgba(0, 0, 0, 0.3));\n",
              "      fill: #FFFFFF;\n",
              "    }\n",
              "  </style>\n",
              "\n",
              "      <script>\n",
              "        const buttonEl =\n",
              "          document.querySelector('#df-3b2f2b68-2344-454e-a5c5-0b33a3d4d1c5 button.colab-df-convert');\n",
              "        buttonEl.style.display =\n",
              "          google.colab.kernel.accessAllowed ? 'block' : 'none';\n",
              "\n",
              "        async function convertToInteractive(key) {\n",
              "          const element = document.querySelector('#df-3b2f2b68-2344-454e-a5c5-0b33a3d4d1c5');\n",
              "          const dataTable =\n",
              "            await google.colab.kernel.invokeFunction('convertToInteractive',\n",
              "                                                     [key], {});\n",
              "          if (!dataTable) return;\n",
              "\n",
              "          const docLinkHtml = 'Like what you see? Visit the ' +\n",
              "            '<a target=\"_blank\" href=https://colab.research.google.com/notebooks/data_table.ipynb>data table notebook</a>'\n",
              "            + ' to learn more about interactive tables.';\n",
              "          element.innerHTML = '';\n",
              "          dataTable['output_type'] = 'display_data';\n",
              "          await google.colab.output.renderOutput(dataTable, element);\n",
              "          const docLink = document.createElement('div');\n",
              "          docLink.innerHTML = docLinkHtml;\n",
              "          element.appendChild(docLink);\n",
              "        }\n",
              "      </script>\n",
              "    </div>\n",
              "  </div>\n",
              "  "
            ]
          },
          "metadata": {},
          "execution_count": 2
        }
      ]
    },
    {
      "cell_type": "markdown",
      "source": [
        "Languages in dataset:"
      ],
      "metadata": {
        "id": "vtePJpPq-XOh"
      }
    },
    {
      "cell_type": "code",
      "source": [
        "data[\"Language\"].value_counts()"
      ],
      "metadata": {
        "colab": {
          "base_uri": "https://localhost:8080/"
        },
        "id": "hpY-nxUTHTMa",
        "outputId": "31e45f66-ea31-49ab-c59a-27a2e14a92e1"
      },
      "execution_count": null,
      "outputs": [
        {
          "output_type": "execute_result",
          "data": {
            "text/plain": [
              "Arabic        317\n",
              "Latin         317\n",
              "Thai          317\n",
              "Swedish       317\n",
              "Spanish       317\n",
              "Russian       317\n",
              "Romanian      317\n",
              "Portugese     317\n",
              "Korean        317\n",
              "Chinese       317\n",
              "Japanese      317\n",
              "Indonesian    317\n",
              "Hindi         317\n",
              "French        317\n",
              "English       317\n",
              "Dutch         317\n",
              "Turkish       317\n",
              "Name: Language, dtype: int64"
            ]
          },
          "metadata": {},
          "execution_count": 3
        }
      ]
    },
    {
      "cell_type": "code",
      "source": [
        "X = data[\"Text\"]\n",
        "y = data[\"Language\"]\n",
        "languages = set(data['Language'])"
      ],
      "metadata": {
        "id": "dO7usr9SHTwC"
      },
      "execution_count": null,
      "outputs": []
    },
    {
      "cell_type": "markdown",
      "source": [
        "## Label Encoding"
      ],
      "metadata": {
        "id": "N46rP_cV-iMW"
      }
    },
    {
      "cell_type": "code",
      "source": [
        "from sklearn.preprocessing import LabelEncoder\n",
        "le = LabelEncoder()\n",
        "y = le.fit_transform(y)"
      ],
      "metadata": {
        "id": "5iXKQ37cHVhA"
      },
      "execution_count": null,
      "outputs": []
    },
    {
      "cell_type": "markdown",
      "source": [
        "## Text Preprocessing"
      ],
      "metadata": {
        "id": "ksGzqa7o-lae"
      }
    },
    {
      "cell_type": "code",
      "source": [
        "import re\n",
        "# creating a list for appending the preprocessed text\n",
        "data_list = []\n",
        "# iterating through all the text\n",
        "for x in X:\n",
        "       # removing the numbers\n",
        "        x = re.sub(r'[!@#$(),n\"%^*?:;~`0-9]', ' ', x)\n",
        "        # converting the text to lower case\n",
        "        x = x.lower()\n",
        "        #remove mentions\n",
        "        x = re.sub('@\\S+' , ' ' , x)\n",
        "        #remove url\n",
        "        x = re.sub('https*\\S+' , ' ' , x)\n",
        "        #remove hastag\n",
        "        x= re.sub('#\\S+' , ' ' , x)\n",
        "        # appending to data_list\n",
        "        data_list.append(x)"
      ],
      "metadata": {
        "id": "s5A52CztHXLE"
      },
      "execution_count": null,
      "outputs": []
    },
    {
      "cell_type": "markdown",
      "source": [
        "### Text to Vector"
      ],
      "metadata": {
        "id": "6FUO3oA7-scv"
      }
    },
    {
      "cell_type": "code",
      "source": [
        "from sklearn.feature_extraction.text import CountVectorizer\n",
        "cv = CountVectorizer()\n",
        "X = cv.fit_transform(data_list).toarray()\n",
        "features = cv.get_feature_names()\n",
        "X.shape"
      ],
      "metadata": {
        "id": "Bv2uX86yyyaR",
        "colab": {
          "base_uri": "https://localhost:8080/"
        },
        "outputId": "c3b77681-fde2-423e-a923-6496177bdf81"
      },
      "execution_count": null,
      "outputs": [
        {
          "output_type": "execute_result",
          "data": {
            "text/plain": [
              "(5389, 89930)"
            ]
          },
          "metadata": {},
          "execution_count": 7
        }
      ]
    },
    {
      "cell_type": "markdown",
      "source": [
        "### Train Test Split"
      ],
      "metadata": {
        "id": "DTFxhGm4-oi4"
      }
    },
    {
      "cell_type": "code",
      "source": [
        "from sklearn.model_selection import train_test_split\n",
        "x_train, x_test, y_train, y_test = train_test_split(X, y, test_size = 0.2, random_state=42)"
      ],
      "metadata": {
        "id": "it-MgZ9sHsz4"
      },
      "execution_count": null,
      "outputs": []
    },
    {
      "cell_type": "markdown",
      "source": [
        "Getting Relevant Chars "
      ],
      "metadata": {
        "id": "i71wj7kJ-wG2"
      }
    },
    {
      "cell_type": "code",
      "source": [
        "class MultiNB:\n",
        "  def __init__(self,alpha=1):\n",
        "    self.alpha = alpha\n",
        "    \n",
        "  def _prior(self):\n",
        "    P = np.zeros((self.n_classes_))\n",
        "    _, self.dist = np.unique(self.y,return_counts=True)\n",
        "    for i in range(self.classes_.shape[0]):\n",
        "        P[i] = self.dist[i] / self.n_samples\n",
        "    return P\n",
        "    \n",
        "\n",
        "  def fit(self, X, y):\n",
        "    self.X = X\n",
        "    self.y = y\n",
        "    self.n_samples, self.n_features = X.shape\n",
        "    self.classes_ = np.unique(y)\n",
        "    self.n_classes_ = self.classes_.shape[0]\n",
        "    self.class_priors_ = self._prior()\n",
        "    \n",
        "    self.uniques = []\n",
        "    for i in range(self.n_features):\n",
        "        tmp = np.unique(X[:,i])\n",
        "        self.uniques.append( tmp )\n",
        "        \n",
        "    self.N_yi = np.zeros((self.n_classes_, self.n_features))\n",
        "    self.N_y = np.zeros((self.n_classes_)) \n",
        "    for i in self.classes_:\n",
        "        indices = np.argwhere(self.y==i).flatten()\n",
        "        columnwise_sum = []\n",
        "        for j in range(self.n_features):\n",
        "            columnwise_sum.append(np.sum(X[indices,j]))\n",
        "            \n",
        "        self.N_yi[i] = columnwise_sum\n",
        "        self.N_y[i] = np.sum(columnwise_sum)\n",
        "    \n",
        "\n",
        "  def _theta(self, x_i, i, h):\n",
        "    Nyi = self.N_yi[h,i]\n",
        "    Ny  = self.N_y[h]\n",
        "    \n",
        "    numerator = Nyi + self.alpha\n",
        "    denominator = Ny + (self.alpha * self.n_features)\n",
        "    \n",
        "    return  (numerator / denominator)**x_i\n",
        "  \n",
        "\n",
        "  def _likelyhood(self, x, h):\n",
        "    tmp = []\n",
        "    for i in range(x.shape[0]):\n",
        "        tmp.append(self._theta(x[i], i,h))\n",
        "    \n",
        "    return np.prod(tmp)\n",
        "  \n",
        "\n",
        "  def predict(self, X):\n",
        "    samples, features = X.shape\n",
        "    self.predict_proba = np.zeros((samples,self.n_classes_))\n",
        "    \n",
        "    for i in range(X.shape[0]):\n",
        "        joint_likelyhood = np.zeros((self.n_classes_))\n",
        "        \n",
        "        for h in range(self.n_classes_):\n",
        "            joint_likelyhood[h]  = self.class_priors_[h] * self._likelyhood(X[i],h)\n",
        "            \n",
        "        denominator = np.sum(joint_likelyhood)\n",
        "        \n",
        "        for h in range(self.n_classes_):\n",
        "            numerator = joint_likelyhood[h]\n",
        "            self.predict_proba[i,h] = (numerator / denominator)\n",
        "        \n",
        "    indices = np.argmax(self.predict_proba,axis=1)\n",
        "    return self.classes_[indices]"
      ],
      "metadata": {
        "id": "zvBrBoJ9H-Np"
      },
      "execution_count": null,
      "outputs": []
    },
    {
      "cell_type": "code",
      "source": [
        "model = MultiNB()\n",
        "model.fit(x_train, y_train)\n",
        "\n",
        "y_pred_test = model.predict(x_test)"
      ],
      "metadata": {
        "id": "4IMNbXm99fgl"
      },
      "execution_count": null,
      "outputs": []
    },
    {
      "cell_type": "code",
      "source": [
        "from sklearn.metrics import accuracy_score, confusion_matrix, classification_report\n",
        "\n",
        "ac_test = accuracy_score(y_test, y_pred_test)\n",
        "cm_test = confusion_matrix(y_test, y_pred_test)\n",
        "print(\"Test Accuracy is :\",ac_test)"
      ],
      "metadata": {
        "id": "xfZvD1s8IMw8",
        "colab": {
          "base_uri": "https://localhost:8080/"
        },
        "outputId": "6a53657d-0ec5-4c15-ad6b-ad3211f39d22"
      },
      "execution_count": null,
      "outputs": [
        {
          "output_type": "stream",
          "name": "stdout",
          "text": [
            "Test Accuracy is : 0.7504638218923934\n"
          ]
        }
      ]
    },
    {
      "cell_type": "code",
      "source": [
        "plt.figure(figsize=(15,10))\n",
        "sns.heatmap(cm_test, annot = True)\n",
        "plt.show()"
      ],
      "metadata": {
        "id": "kJ9K3IraIOIu",
        "colab": {
          "base_uri": "https://localhost:8080/",
          "height": 596
        },
        "outputId": "e611c30b-bcd4-47f0-e47b-62e2d2129403"
      },
      "execution_count": null,
      "outputs": [
        {
          "output_type": "display_data",
          "data": {
            "text/plain": [
              "<Figure size 1080x720 with 2 Axes>"
            ],
            "image/png": "[encoded data removed]"
          },
          "metadata": {
            "needs_background": "light"
          }
        }
      ]
    },
    {
      "cell_type": "code",
      "source": [
        "def predict(text):\n",
        "     x = cv.transform([text]).toarray() # converting text to bag of words model (Vector)\n",
        "     lang = model.predict(x)\n",
        "     lang = le.inverse_transform(lang) # finding the language corresponding the the predicted value\n",
        "     print(\"The langauge is in\",lang[0]) # printing the language"
      ],
      "metadata": {
        "id": "18NkXsWnIQ3z"
      },
      "execution_count": null,
      "outputs": []
    },
    {
      "cell_type": "code",
      "source": [
        "predict(\"Where is this? Who am I?\")"
      ],
      "metadata": {
        "id": "XHnxyxhgJk05",
        "colab": {
          "base_uri": "https://localhost:8080/"
        },
        "outputId": "cc5f082a-8298-4864-c478-9d1071052869"
      },
      "execution_count": null,
      "outputs": [
        {
          "output_type": "stream",
          "name": "stdout",
          "text": [
            "The langauge is in English\n"
          ]
        }
      ]
    },
    {
      "cell_type": "code",
      "source": [
        "predict(\"أين هذا من أنا؟\")"
      ],
      "metadata": {
        "id": "ie4quiYBJ8Lv",
        "colab": {
          "base_uri": "https://localhost:8080/"
        },
        "outputId": "b67d6ed8-c5db-43aa-e427-3468828a4e96"
      },
      "execution_count": null,
      "outputs": [
        {
          "output_type": "stream",
          "name": "stdout",
          "text": [
            "The langauge is in Arabic\n"
          ]
        }
      ]
    },
    {
      "cell_type": "code",
      "source": [
        "predict(\"Donde es esto ¿Quién soy yo?\")"
      ],
      "metadata": {
        "id": "IORSxaP9J93s",
        "colab": {
          "base_uri": "https://localhost:8080/"
        },
        "outputId": "694a27c0-5c3c-44c9-e0b5-8fa23d152df7"
      },
      "execution_count": null,
      "outputs": [
        {
          "output_type": "stream",
          "name": "stdout",
          "text": [
            "The langauge is in Spanish\n"
          ]
        }
      ]
    },
    {
      "cell_type": "code",
      "source": [
        "predict(\"Dimana ini Siapa aku?\")"
      ],
      "metadata": {
        "id": "3LKPI5mFJ_zF",
        "colab": {
          "base_uri": "https://localhost:8080/"
        },
        "outputId": "0e66a810-00e1-418c-a697-5b72aa3f6e08"
      },
      "execution_count": null,
      "outputs": [
        {
          "output_type": "stream",
          "name": "stdout",
          "text": [
            "The langauge is in Indonesian\n"
          ]
        }
      ]
    },
    {
      "cell_type": "code",
      "source": [
        "predict(\"ここどこ?私は誰?\")"
      ],
      "metadata": {
        "id": "kWLkI1vOqILi",
        "colab": {
          "base_uri": "https://localhost:8080/"
        },
        "outputId": "6284c212-7e16-41a4-c222-78db026a596d"
      },
      "execution_count": null,
      "outputs": [
        {
          "output_type": "stream",
          "name": "stdout",
          "text": [
            "The langauge is in Japanese\n"
          ]
        }
      ]
    },
    {
      "cell_type": "code",
      "source": [
        "predict(\"Ubi est, quis sum?\")"
      ],
      "metadata": {
        "id": "hpjeYJdCqu6D",
        "colab": {
          "base_uri": "https://localhost:8080/"
        },
        "outputId": "32cacccc-051d-4dc3-b785-fb809d7592d5"
      },
      "execution_count": null,
      "outputs": [
        {
          "output_type": "stream",
          "name": "stdout",
          "text": [
            "The langauge is in Latin\n"
          ]
        }
      ]
    },
    {
      "cell_type": "code",
      "source": [
        "predict(\"ที่นี่ที่ไหน ฉันเป็นใคร\")"
      ],
      "metadata": {
        "id": "VRAxbtYSq9bX",
        "colab": {
          "base_uri": "https://localhost:8080/"
        },
        "outputId": "903528ec-b9cf-45d1-e898-ee9eeb3f6da0"
      },
      "execution_count": null,
      "outputs": [
        {
          "output_type": "stream",
          "name": "stdout",
          "text": [
            "The langauge is in Thai\n"
          ]
        }
      ]
    },
    {
      "cell_type": "code",
      "source": [
        "predict(\"Где это?Кто я?\")"
      ],
      "metadata": {
        "id": "fJIcOu4MrW9k",
        "colab": {
          "base_uri": "https://localhost:8080/"
        },
        "outputId": "a8fa55e8-48d4-40e6-bd8e-a3d8464176bf"
      },
      "execution_count": null,
      "outputs": [
        {
          "output_type": "stream",
          "name": "stdout",
          "text": [
            "The langauge is in Russian\n"
          ]
        }
      ]
    },
    {
      "cell_type": "code",
      "source": [
        "predict(\"여기가 어디야? 나는 누구인가?\")"
      ],
      "metadata": {
        "id": "z-lEF17usddd",
        "colab": {
          "base_uri": "https://localhost:8080/"
        },
        "outputId": "53e54737-06aa-48bf-8a42-283e444a0e1b"
      },
      "execution_count": null,
      "outputs": [
        {
          "output_type": "stream",
          "name": "stdout",
          "text": [
            "The langauge is in Korean\n"
          ]
        }
      ]
    },
    {
      "cell_type": "code",
      "source": [
        "#text = input(\"Input Sentence: \")\n",
        "#predict(text)"
      ],
      "metadata": {
        "id": "5_TUOGkluMLW"
      },
      "execution_count": null,
      "outputs": []
    }
  ]
}
